{
 "cells": [
  {
   "cell_type": "markdown",
   "metadata": {},
   "source": [
    "### BLU 537E - Data Analysis and Visualization | Assignment 1 \n",
    "#### PROBLEM 5\n",
    "Norway_new_car_sales_by_model.csv file contains information of the new car sales in Norway between the years 2007-2017. The dataset was obtained from www.kaagle.com web site. The dataset comprises of monthly car sale quantity for various manufacturers and models. Make columns shows the manufacturer and Pct column shows the percent share in monlty total sales. Using this dataset do the following tasks:\n",
    "\n",
    "a) Print the number of unique manufacturers in this dataset.\n",
    "\n",
    "b) Find the manufacturer that has the highest car sales in 2010?"
   ]
  },
  {
   "cell_type": "code",
   "execution_count": 1,
   "metadata": {
    "collapsed": true
   },
   "outputs": [],
   "source": [
    "import collections\n",
    "import csv\n",
    "\n",
    "def problem5(file):\n",
    "    # Open the CSV file using Python's built-in module: csv\n",
    "    # To avoid UnicodeDecodeError, errors='ignore' parameter is used. \n",
    "    file = open(file, mode = 'r', encoding=\"utf8\", errors='ignore')\n",
    "    # Read the file as a dictionary.\n",
    "    reader = csv.DictReader(file, delimiter = ',')\n",
    "    # Now, we have a dictionary:\n",
    "    # [('Year', '2007'), ('Month', '1'), ('Make', 'Volkswagen '), ('Model', 'Volkswagen Passat'), ('Quantity', '1267'), ('Pct', '10')]\n",
    "    # [('Year', '2007'), ('Month', '1'), ('Make', 'Toyota '), ('Model', 'Toyota Rav4'), ('Quantity', '819'), ('Pct', '6.5')], etc.\n",
    "    \n",
    "    # Part (a): Create a list to store all manufacturers.\n",
    "    manufacturer = []\n",
    "    # Part (b): Using collections module, create a counter to be able to count the car sales of each manufacturer. \n",
    "    quantity_of_car_sales = collections.Counter()\n",
    "    \n",
    "    for row in reader:\n",
    "        # Part (a): Add all the manufacturers to the list, without considering if it is already in the list or not.\n",
    "        manufacturer.append(row['Make'])\n",
    "        # Part (a): Now, we have a list as follows:\n",
    "        # Part (a): ['Volkswagen ', 'Toyota ', 'Toyota ', 'Volkswagen ', 'Toyota ', 'Peugeot ', 'Skoda ', 'Toyota ', 'Ford ', 'Volvo ', ...]\n",
    "         \n",
    "        # Part (b): In year 2010, for each manifacturer find the number of car sales and sum them up.    \n",
    "        if row['Year'] == '2010':\n",
    "            quantity_of_car_sales[row['Make']] += int(row['Quantity']) \n",
    "           \n",
    "    # Part (a): Using collections module, count the number of occurences of the manufacturers. \n",
    "    unique_manifacturers = collections.Counter(manufacturer)\n",
    "    # Part (a): Now, the keys are unique in this list:\n",
    "    # Part (a): Counter({'Toyota ': 492, 'Volkswagen ': 440, 'Volvo ': 294, 'Ford ': 246, 'Nissan ': 180, 'Audi ': 146, \n",
    "    # Part (a): 'Skoda ': 142, 'Peugeot ': 132, 'BMW ': 130, 'Mitsubishi ': 105, 'Mazda ': 80, 'Mercedes-Benz ': 63,]) etc.\n",
    "    \n",
    "    # PART (a): Print the number of unique manufacturers in this dataset.\n",
    "    print(\"PART (A): Print the number of unique manufacturers in this dataset.\\n\")\n",
    "    print(\"The Number of Unique Manifacturers is: {}\".format(len(unique_manifacturers.keys())))\n",
    "    print(\"\\n***********************************************************\\n\");\n",
    "    \n",
    "    # PART (b): Find the manufacturer that has the highest car sales in 2010.\n",
    "    print(\"PART (B): Find the manufacturer that has the highest car sales in 2010.\\n\")\n",
    "    print(\"The MANUFACTURER with HIGHEST CAR SALES in 2010: {}\".format(quantity_of_car_sales.most_common(1)))\n",
    "    print(\"\\n***********************************************************\\n\");"
   ]
  },
  {
   "cell_type": "code",
   "execution_count": 2,
   "metadata": {
    "collapsed": false
   },
   "outputs": [
    {
     "name": "stdout",
     "output_type": "stream",
     "text": [
      "PART (A): Print the number of unique manufacturers in this dataset.\n",
      "\n",
      "The Number of Unique Manifacturers is: 22\n",
      "\n",
      "***********************************************************\n",
      "\n",
      "PART (B): Find the manufacturer that has the highest car sales in 2010.\n",
      "\n",
      "The MANUFACTURER with HIGHEST CAR SALES in 2010: [('Volkswagen ', 16118)]\n",
      "\n",
      "***********************************************************\n",
      "\n"
     ]
    }
   ],
   "source": [
    "problem5(\"norway_new_car_sales_by_model.csv\")"
   ]
  },
  {
   "cell_type": "markdown",
   "metadata": {},
   "source": [
    "### BLU 537E - Data Analysis and Visualization | Assignment 1 \n",
    "#### PROBLEM 4\n",
    "You are given a csv (gdp_per_capita.csv) file for GDP per capita taken from World Bank. The file holds data from 1960 to 2017. Note that some data for certain years are missing. Write a function that takes this file as an input and do the following tasks for Turkey:\n",
    "\n",
    "\n",
    "a) Calculate the yearly percentage increase compared to previous year and the find the year that\n",
    "has highest increase in terms of percentage.\n",
    "\n",
    "\n",
    "b) Find the years that GDP per capita decreased compared to the previous year."
   ]
  },
  {
   "cell_type": "code",
   "execution_count": 3,
   "metadata": {
    "collapsed": true
   },
   "outputs": [],
   "source": [
    "import collections\n",
    "import csv\n",
    "import re\n",
    "\n",
    "def problem4(file):\n",
    "    # Open the CSV file using Python's built-in module: csv\n",
    "    file = open(file, mode = 'r')\n",
    "    # Read the file as a dictionary.\n",
    "    reader = csv.DictReader(file, delimiter=';')\n",
    "    # OrderedDict([('Country Name', 'Aruba'), ('1960', ''), ('1961', ''), ('1962', ''), ('1963', ''), ('1964', ''), \n",
    "    # ('1965', ''), ('1966', ''), ('1967', ''), ('1968', ''), ('1969', ''), ('1970', ''), ('1971', ''), ('1972', ''), ... ]), etc.\n",
    "    \n",
    "    # Part (a): Create a dictionary to store yearly percentage increase.\n",
    "    increase_in_terms_of_percentage = {}    \n",
    "    \n",
    "    for row in reader:\n",
    "        # Part (a): For Turkey, evaluate the increase using formula: (current_gdp - previous_gdp) * 100 / (current_gdp)\n",
    "        if row['Country Name'] == 'Turkey':\n",
    "            # Part (a): Increase percentage is calculated for: [1961 and 2017] time interval.\n",
    "            # Part (a): (There is NO increase percentage for the year 1960.)\n",
    "            for i in range(2, len(reader.fieldnames)):\n",
    "                increase_in_terms_of_percentage[reader.fieldnames[i]] = (float(row[reader.fieldnames[i]]) - float(row[reader.fieldnames[i - 1]])) * 100 / (float(row[reader.fieldnames[i]])) \n",
    "                # Now, we have:\n",
    "                # {'1961': -78.73733197596287, '1962': 7.896086257857306, '1963': 11.753818665509044, '1964': 5.119424708452099,\n",
    "                # '1965': 4.1637664070723455, '1966': 13.387860733884622, '1967': 7.696841934220605, '1968': 8.330375671997261, ..} etc.\n",
    "    \n",
    "    # Part (a): Calculate the yearly percentage increase compared to previous year and the find the year that has highest increase in terms of percentage.\n",
    "    print(\"PART (A): Find the year that has highest increase in terms of percentage.\\n\")\n",
    "    # Part (a): Using collections module, find the max increase and the year that has the max increase.\n",
    "    print(\"The YEAR with the HIGHEST INCREASE: {}\".format(collections.Counter(increase_in_terms_of_percentage).most_common(1)))\n",
    "    print(\"\\n***********************************************************\\n\");\n",
    "    \n",
    "    \n",
    "    # Part (b): Find the years that GDP per capita decreased compared to the previous year.\n",
    "    print(\"PART (B): Find the years that GDP per capita decreased compared to the previous year.\\n\")\n",
    "    print(\"GDP percentage decreased in the following YEARS: \\n\")\n",
    "    for key, value in increase_in_terms_of_percentage.items():\n",
    "        if value < 0:\n",
    "            print(key, end = '  ')\n",
    "    print(\"\\n\\n***********************************************************\\n\");"
   ]
  },
  {
   "cell_type": "code",
   "execution_count": 4,
   "metadata": {
    "collapsed": false
   },
   "outputs": [
    {
     "name": "stdout",
     "output_type": "stream",
     "text": [
      "PART (A): Find the year that has highest increase in terms of percentage.\n",
      "\n",
      "The YEAR with the HIGHEST INCREASE: [('1998', 30.07033833749686)]\n",
      "\n",
      "***********************************************************\n",
      "\n",
      "PART (B): Find the years that GDP per capita decreased compared to the previous year.\n",
      "\n",
      "GDP percentage decreased in the following YEARS: \n",
      "\n",
      "1961  1970  1971  1980  1982  1983  1984  1991  1994  1999  2001  2009  2014  2015  2016  2017  \n",
      "\n",
      "***********************************************************\n",
      "\n"
     ]
    }
   ],
   "source": [
    "problem4(\"gdp_per_capita.csv\")"
   ]
  },
  {
   "cell_type": "markdown",
   "metadata": {},
   "source": [
    "### BLU 537E - Data Analysis and Visualization | Assignment 1 \n",
    "#### PROBLEM 3\n",
    "You are given a file named “blood-pressure.csv” which contains blood pressure measurement for some patients. The first column is for patient id and the second column is for blood pressure measurement in the format of mean[min-max] values. Write a function that takes this file as an input and do the folowing tasks:\n",
    "\n",
    "a) Prints the lowest and highest blood pressure measurements amongs the patients. The output should be 108 and 180.\n",
    "\n",
    "b) Prints the average of the mean values."
   ]
  },
  {
   "cell_type": "code",
   "execution_count": 5,
   "metadata": {
    "collapsed": true
   },
   "outputs": [],
   "source": [
    "MAX_INTEGER = 65535\n",
    "MIN_INTEGER = -65535 \n",
    "\n",
    "import csv\n",
    "import re\n",
    "\n",
    "def problem3(file):\n",
    "    \n",
    "    max = MIN_INTEGER;\n",
    "    min = MAX_INTEGER;\n",
    "    sum = 0;\n",
    "    number_of_rows = 0;\n",
    "    \n",
    "    # Open the CSV file using Python's built-in library: csv\n",
    "    with open(file, mode='r') as csv_file:\n",
    "        # Read the file as a dictionary.\n",
    "        csv_reader = csv.DictReader(csv_file)\n",
    "        # Now, we have a dictinary: \n",
    "        # [('id', '1'), ('Blood pressure systolic (mmHg) mean[min-max]', '135[113-166]')],\n",
    "        # [('id', '2'), ('Blood pressure systolic (mmHg) mean[min-max]', '140 [110-155]')], etc.\n",
    "        \n",
    "        # Part (a): Print the lowest and the highest blood pressure measurements among the patients.\n",
    "        # The output should be: 108 and 180.\n",
    "        \n",
    "        for row in csv_reader:\n",
    "            # Given the 'Blood ... [min-max]' key, find all the integers from the value string: '135[113-166]'.\n",
    "            # Store the integers (blood pressures) in a list.\n",
    "            list = [int(x) for x in re.findall('\\d+', row['Blood pressure systolic (mmHg) mean[min-max]'])]\n",
    "            \n",
    "            # PART A: MIN-MAX\n",
    "            # In every row, check the min-max values, update when necessary.\n",
    "            if (list[1] > max):\n",
    "                max = list[1];\n",
    "            elif (list[2] > max):\n",
    "                max = list[2];\n",
    "            \n",
    "            if (list[1] < min):\n",
    "                min = list[1];\n",
    "            elif (list[2] < min):\n",
    "                min = list[2];\n",
    "            \n",
    "            # PART B: THE AVERAGE\n",
    "            sum += list[0];\n",
    "            number_of_rows += 1;\n",
    "\n",
    "        \n",
    "        print(\"PART (A): Print the lowest and the highest blood pressure measurements among the patients.\\n\");\n",
    "        print(\"The Lowest Blood Pressure is : {}\".format(min))\n",
    "        print(\"The Highest Blood Pressure is: {}\".format(max))\n",
    "        print(\"\\n***********************************************************\\n\");\n",
    "        \n",
    "        # Part (b): Print the average of the mean values.\n",
    "        print(\"PART (B): Print the average of the mean values.\\n\")\n",
    "        print(\"The Average is: {}\".format(sum/number_of_rows));\n",
    "        print(\"\\n***********************************************************\\n\");\n",
    "        \n",
    "    return;"
   ]
  },
  {
   "cell_type": "code",
   "execution_count": 6,
   "metadata": {
    "collapsed": false
   },
   "outputs": [
    {
     "name": "stdout",
     "output_type": "stream",
     "text": [
      "PART (A): Print the lowest and the highest blood pressure measurements among the patients.\n",
      "\n",
      "The Lowest Blood Pressure is : 108\n",
      "The Highest Blood Pressure is: 180\n",
      "\n",
      "***********************************************************\n",
      "\n",
      "PART (B): Print the average of the mean values.\n",
      "\n",
      "The Average is: 136.0\n",
      "\n",
      "***********************************************************\n",
      "\n"
     ]
    }
   ],
   "source": [
    "problem3(\"blood_pressure.csv\")"
   ]
  },
  {
   "cell_type": "markdown",
   "metadata": {},
   "source": [
    "### BLU 537E - Data Analysis and Visualization | Assignment 1 \n",
    "#### PROBLEM 2\n",
    "Write a program that generates a list of 20 random numbers between 1 and 100.\n",
    "\n",
    "(a) Print the list. \n",
    "\n",
    "(b) Print the average of the elements in the list.\n",
    "\n",
    "(c) Print the largest and smallest values in the list. \n",
    "\n",
    "(d) Print the second largest and second smallest entries in the list\n",
    "\n",
    "(e) Print how many even numbers are in the list."
   ]
  },
  {
   "cell_type": "code",
   "execution_count": 9,
   "metadata": {
    "collapsed": true
   },
   "outputs": [],
   "source": [
    "import random;\n",
    "\n",
    "def problem2():\n",
    "    # Create a list.\n",
    "    list = [];\n",
    "    \n",
    "    # Insert 20 random numbers between 1 and 100, to the list.\n",
    "    for i in range(1, 20):\n",
    "        list.append(random.randint(1, 100));\n",
    "    \n",
    "    # PART (a): Print the list.\n",
    "    print(\"Part (a): A list of 20 random numbers between 1 and 100 is generated.\\n\");\n",
    "    print(list);\n",
    "    print(\"\\n***********************************************************\\n\");\n",
    "    \n",
    "    # PART (b): Print the average of the elements in the list.\n",
    "    print(\"Part (b): The average of the elements in the list is evaluated.\\n\");\n",
    "    sum = 0;\n",
    "    for i in list:\n",
    "        sum += i;\n",
    "    print(\"The Average: {}\".format(sum/20));\n",
    "    print(\"\\n***********************************************************\\n\");\n",
    "       \n",
    "    # PART (c): Print the largest and the samllest values in the list.\n",
    "    print(\"Part (c): The largest and the smallest values in the list are found.\\n\");\n",
    "    max = list[0];\n",
    "    min = list[0];\n",
    "    \n",
    "    for i in list:\n",
    "        if max < i:\n",
    "            max = i;\n",
    "        elif min > i:\n",
    "            min = i;\n",
    "            \n",
    "    print(\"The largest value is: {}\".format(max));\n",
    "    print(\"The smallest value is: {}\".format(min));    \n",
    "    print(\"\\n***********************************************************\\n\");\n",
    "    \n",
    "    # PART (d): Print the second largest and the second smallest entries in the list.\n",
    "    print(\"Part (d): Second largest and the second smallest entries are found.\\n\");\n",
    "    second_max = list[0];\n",
    "    second_min = list[0];\n",
    "    \n",
    "    for i in list:\n",
    "        if second_max < i and i != max:\n",
    "            second_max = i;\n",
    "        elif second_min > i and i != min:\n",
    "            second_min = i;\n",
    "            \n",
    "    print(\"The second largest value is: {}\".format(second_max));\n",
    "    print(\"The second smallest value is: {}\".format(second_min)); \n",
    "    print(\"\\n***********************************************************\\n\");\n",
    "    \n",
    "    # PART (e): Print how many even numbers are in the list.\n",
    "    print(\"Part (e): Total number of even numbers in the list is evaluated.\\n\");\n",
    "    count = 0;\n",
    "    \n",
    "    for i in list:\n",
    "        if i % 2 == 0:\n",
    "            count += 1;\n",
    "            \n",
    "    print(\"Count of Even Numbers: {}\".format(count));\n",
    "    print(\"\\n***********************************************************\\n\");\n",
    "    \n",
    "    return;"
   ]
  },
  {
   "cell_type": "code",
   "execution_count": 10,
   "metadata": {
    "collapsed": false
   },
   "outputs": [
    {
     "name": "stdout",
     "output_type": "stream",
     "text": [
      "Part (a): A list of 20 random numbers between 1 and 100 is generated.\n",
      "\n",
      "[60, 93, 71, 3, 52, 24, 94, 79, 94, 72, 26, 70, 86, 9, 36, 100, 81, 39, 65]\n",
      "\n",
      "***********************************************************\n",
      "\n",
      "Part (b): The average of the elements in the list is evaluated.\n",
      "\n",
      "The Average: 57.7\n",
      "\n",
      "***********************************************************\n",
      "\n",
      "Part (c): The largest and the smallest values in the list are found.\n",
      "\n",
      "The largest value is: 100\n",
      "The smallest value is: 3\n",
      "\n",
      "***********************************************************\n",
      "\n",
      "Part (d): Second largest and the second smallest entries are found.\n",
      "\n",
      "The second largest value is: 94\n",
      "The second smallest value is: 9\n",
      "\n",
      "***********************************************************\n",
      "\n",
      "Part (e): Total number of even numbers in the list is evaluated.\n",
      "\n",
      "Count of Even Numbers: 11\n",
      "\n",
      "***********************************************************\n",
      "\n"
     ]
    }
   ],
   "source": [
    "problem2();"
   ]
  },
  {
   "cell_type": "markdown",
   "metadata": {},
   "source": [
    "### BLU 537E - Data Analysis and Visualization | Assignment 1 \n",
    "#### PROBLEM 1\n",
    "A store charges $12 per item if you buy less than 10 items. \n",
    "\n",
    "If you buy between 10 and 99 items, the cost is 10 dollars per item. If you buy 100 or more items, the cost is 7 dollars per item. \n",
    "\n",
    "Write a program that takes how many items are bought as an input and prints the total cost."
   ]
  },
  {
   "cell_type": "code",
   "execution_count": 11,
   "metadata": {
    "collapsed": true
   },
   "outputs": [],
   "source": [
    "NUMBER_OF_ITEMS_TYPE_1 = 10;\n",
    "NUMBER_OF_ITEMS_TYPE_2 = 100;\n",
    "\n",
    "CHARGE_TYPE_1 = 12;\n",
    "CHARGE_TYPE_2 = 10;\n",
    "CHARGE_TYPE_3 = 7;\n",
    "\n",
    "def problem1(number_of_items):    \n",
    "    # Initially set total cost to zero.\n",
    "    cost = 0;\n",
    "    # If you buy less than \"NUMBER_OF_ITEMS_TYPE_1\", store charges \"CHARGE_TYPE_1\" per item.\n",
    "    if (number_of_items < NUMBER_OF_ITEMS_TYPE_1):\n",
    "        cost = number_of_items * CHARGE_TYPE_1;\n",
    "    # Store charges \"CHARGE_TYPE_2\" per item for the given condition.\n",
    "    elif (number_of_items >= NUMBER_OF_ITEMS_TYPE_1 and number_of_items < NUMBER_OF_ITEMS_TYPE_2):\n",
    "        cost = number_of_items * CHARGE_TYPE_2;\n",
    "    # If you buy more than \"NUMBER_OF_ITEMS_TYPE_2\", store charges \"CHARGE_TYPE_3\" per item.\n",
    "    elif (number_of_items >= NUMBER_OF_ITEMS_TYPE_2):\n",
    "        cost = number_of_items * CHARGE_TYPE_3;\n",
    "    \n",
    "    print(\"{} items are bought, the total cost is: {}.\".format(number_of_items, cost));\n",
    "        \n",
    "    return;"
   ]
  },
  {
   "cell_type": "code",
   "execution_count": 12,
   "metadata": {
    "collapsed": false
   },
   "outputs": [
    {
     "name": "stdout",
     "output_type": "stream",
     "text": [
      "0 items are bought, the total cost is: 0.\n"
     ]
    }
   ],
   "source": [
    "problem1(0)"
   ]
  },
  {
   "cell_type": "code",
   "execution_count": 13,
   "metadata": {
    "collapsed": false
   },
   "outputs": [
    {
     "name": "stdout",
     "output_type": "stream",
     "text": [
      "1 items are bought, the total cost is: 12.\n"
     ]
    }
   ],
   "source": [
    "problem1(1)"
   ]
  },
  {
   "cell_type": "code",
   "execution_count": null,
   "metadata": {
    "collapsed": true
   },
   "outputs": [],
   "source": []
  }
 ],
 "metadata": {
  "kernelspec": {
   "display_name": "Python 3",
   "language": "python",
   "name": "python3"
  },
  "language_info": {
   "codemirror_mode": {
    "name": "ipython",
    "version": 3
   },
   "file_extension": ".py",
   "mimetype": "text/x-python",
   "name": "python",
   "nbconvert_exporter": "python",
   "pygments_lexer": "ipython3",
   "version": "3.6.3"
  }
 },
 "nbformat": 4,
 "nbformat_minor": 2
}
